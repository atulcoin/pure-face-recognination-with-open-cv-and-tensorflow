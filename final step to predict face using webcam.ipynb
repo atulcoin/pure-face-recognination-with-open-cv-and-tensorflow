{
 "cells": [
  {
   "cell_type": "code",
   "execution_count": 2,
   "metadata": {},
   "outputs": [],
   "source": [
    "import keras"
   ]
  },
  {
   "cell_type": "code",
   "execution_count": 3,
   "metadata": {},
   "outputs": [],
   "source": [
    "model = keras.models.load_model('face_keras_model3.h5')"
   ]
  },
  {
   "cell_type": "code",
   "execution_count": 4,
   "metadata": {},
   "outputs": [],
   "source": [
    "import numpy as np\n",
    "import cv2"
   ]
  },
  {
   "cell_type": "code",
   "execution_count": 5,
   "metadata": {},
   "outputs": [],
   "source": [
    "import pickle\n",
    "with open(\"labels.pickle\", 'rb') as f:\n",
    "    labels = pickle.load(f)\n",
    "    labels ={v:k for k,v in labels.items()}"
   ]
  },
  {
   "cell_type": "code",
   "execution_count": null,
   "metadata": {},
   "outputs": [
    {
     "name": "stdout",
     "output_type": "stream",
     "text": [
      "True\n"
     ]
    }
   ],
   "source": [
    "face_cascade = cv2.CascadeClassifier(\"haarcascade_frontalface_default.xml\")\n",
    "\n",
    "cap = cv2.VideoCapture(0)\n",
    "print(cap.isOpened()) # if in cap we have entered wrong file path then it will give false else true\n",
    "while(cap.isOpened()):    # TO CAPTURE FRAMES OF CAMERA TO VIEW AS VIDEO \n",
    "  #  print(cap.get(cv2.CAP_PROP_FRAME_HEIGHT)) # TO PRINT HEIGHT or property OF THE FRAME \n",
    "  #  print(cap.get(cv2.CAP_PROP_FRAME_WIDTH)) # TO PRINT WIDTHE OF THE FRAME \n",
    "    ret, frame = cap.read()\n",
    "    gray = cv2.cvtColor(frame,cv2.COLOR_BGR2GRAY)\n",
    "    faces = face_cascade.detectMultiScale(gray, scaleFactor=1.3, minNeighbors=5)\n",
    "    if faces is():\n",
    "        cv2.putText(frame, \"no face found\", (200,450), cv2.FONT_HERSHEY_COMPLEX, 1, (0, 255, 255), 2)\n",
    "        cv2.imshow('youtube', frame)\n",
    "    else:\n",
    "        for(x,y,w,h) in faces:\n",
    "            roi = gray[y:y+h, x:x+w]\n",
    "            cv2.rectangle(frame, (x,y), (x+w,y+h),(0,255,240),2)\n",
    "            crop_face = cv2.resize(roi, (200, 200))\n",
    "            #print(crop_face.shape)\n",
    "            data_p = np.asarray(crop_face, dtype=np.int32)\n",
    "            data_p = data_p.reshape((data_p.shape[0], data_p.shape[1], 1))\n",
    "            data_p = np.expand_dims(data_p, -1)\n",
    "            #print(data_p.shape)\n",
    "            output = np.argmax(model.predict(np.expand_dims(data_p, axis=0)).round(2))\n",
    "            #print(output)\n",
    "            name =labels[output]\n",
    "            #print(name)\n",
    "            cv2.putText(frame, name, (x,y), cv2.FONT_HERSHEY_COMPLEX, 1, (0, 255, 255), 2)\n",
    "            cv2.imshow('youtube', frame)\n",
    "    #cv2.imshow('output', frame)\n",
    "    if cv2.waitKey(1) == 13:  #13 is the asci code of enter key\n",
    "        break\n",
    "            \n",
    "cap.release()\n",
    "cv2.destroyAllWindows()"
   ]
  },
  {
   "cell_type": "code",
   "execution_count": null,
   "metadata": {},
   "outputs": [],
   "source": []
  },
  {
   "cell_type": "code",
   "execution_count": null,
   "metadata": {},
   "outputs": [],
   "source": []
  }
 ],
 "metadata": {
  "kernelspec": {
   "display_name": "Python 3",
   "language": "python",
   "name": "python3"
  },
  "language_info": {
   "codemirror_mode": {
    "name": "ipython",
    "version": 3
   },
   "file_extension": ".py",
   "mimetype": "text/x-python",
   "name": "python",
   "nbconvert_exporter": "python",
   "pygments_lexer": "ipython3",
   "version": "3.7.6"
  }
 },
 "nbformat": 4,
 "nbformat_minor": 4
}
